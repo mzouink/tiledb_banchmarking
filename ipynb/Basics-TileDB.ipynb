{
 "cells": [
  {
   "cell_type": "code",
   "execution_count": 8,
   "id": "1e5299ce",
   "metadata": {},
   "outputs": [],
   "source": [
    "# !conda install -c conda-forge tiledb\n",
    "# !conda install -c conda-forge tiledb-py"
   ]
  },
  {
   "cell_type": "code",
   "execution_count": 9,
   "id": "adjustable-jerusalem",
   "metadata": {},
   "outputs": [],
   "source": [
    "import tiledb\n",
    "import numpy as np"
   ]
  },
  {
   "cell_type": "code",
   "execution_count": 10,
   "id": "velvet-deadline",
   "metadata": {},
   "outputs": [
    {
     "data": {
      "text/plain": [
       "'0.11.2'"
      ]
     },
     "execution_count": 10,
     "metadata": {},
     "output_type": "execute_result"
    }
   ],
   "source": [
    "tiledb.__version__"
   ]
  },
  {
   "cell_type": "code",
   "execution_count": 11,
   "id": "7c5fc616",
   "metadata": {},
   "outputs": [
    {
     "data": {
      "text/plain": [
       "(2, 5, 2)"
      ]
     },
     "execution_count": 11,
     "metadata": {},
     "output_type": "execute_result"
    }
   ],
   "source": [
    "tiledb.libtiledb.version()"
   ]
  },
  {
   "cell_type": "markdown",
   "id": "7500f336",
   "metadata": {},
   "source": [
    "## 2D array"
   ]
  },
  {
   "cell_type": "code",
   "execution_count": 15,
   "id": "5e63d0ad",
   "metadata": {},
   "outputs": [],
   "source": [
    "# Create dimensions\n",
    "d1 = tiledb.Dim(name=\"d1\",domain=(1,4),tile=2, dtype = np.int32)\n",
    "d2 = tiledb.Dim(name=\"d2\",domain=(1,4),tile=2, dtype = np.int32)\n",
    "\n",
    "# Create domain using the two dimensions\n",
    "dom1 = tiledb.Domain(d1,d2)\n",
    "\n",
    "# Create attribute\n",
    "a = tiledb.Attr(name=\"a\", dtype= np.int32)\n",
    "\n",
    "# Create the array schema, spare = False to indicate a dense array\n",
    "schema1 = tiledb.ArraySchema(domain=dom1, sparse=False, attrs=[a])\n",
    "\n",
    "# Create the array on disk ( it will be intially empty )\n",
    "tiledb.Array.create(\"dense_array1\",schema1)"
   ]
  },
  {
   "cell_type": "code",
   "execution_count": 18,
   "id": "d791c7c4",
   "metadata": {},
   "outputs": [
    {
     "name": "stdout",
     "output_type": "stream",
     "text": [
      "\u001b[01;34mdense_array1\u001b[00m\r\n",
      "├── __lock.tdb\r\n",
      "├── \u001b[01;34m__meta\u001b[00m\r\n",
      "└── \u001b[01;34m__schema\u001b[00m\r\n",
      "    └── __1637267278772_1637267278772_6c150466aff54b51943f6b87bd2aa447\r\n",
      "\r\n",
      "2 directories, 2 files\r\n"
     ]
    }
   ],
   "source": [
    "!tree dense_array1"
   ]
  },
  {
   "cell_type": "code",
   "execution_count": 17,
   "id": "51aa2a5f",
   "metadata": {},
   "outputs": [
    {
     "data": {
      "text/plain": [
       "ArraySchema(\n",
       "  domain=Domain(*[\n",
       "    Dim(name='d1', domain=(1, 4), tile='2', dtype='int32'),\n",
       "    Dim(name='d2', domain=(1, 4), tile='2', dtype='int32'),\n",
       "  ]),\n",
       "  attrs=[\n",
       "    Attr(name='a', dtype='int32', var=False, nullable=False),\n",
       "  ],\n",
       "  cell_order='row-major',\n",
       "  tile_order='row-major',\n",
       "  capacity=10000,\n",
       "  sparse=False,\n",
       ")"
      ]
     },
     "execution_count": 17,
     "metadata": {},
     "output_type": "execute_result"
    }
   ],
   "source": [
    "schema = tiledb.ArraySchema.load(\"dense_array1\")\n",
    "schema"
   ]
  },
  {
   "cell_type": "code",
   "execution_count": 19,
   "id": "a097257a",
   "metadata": {},
   "outputs": [
    {
     "data": {
      "text/plain": [
       "array([[ 1,  2,  3,  4],\n",
       "       [ 1,  2,  3,  4],\n",
       "       [ 1,  2,  3,  4],\n",
       "       [ 1,  2,  3, 16]], dtype=int32)"
      ]
     },
     "execution_count": 19,
     "metadata": {},
     "output_type": "execute_result"
    }
   ],
   "source": [
    "data = np.array([\n",
    "    [1,2,3,4],\n",
    "    [1,2,3,4],\n",
    "    [1,2,3,4],\n",
    "    [1,2,3,16]],dtype=np.int32)\n",
    "data"
   ]
  },
  {
   "cell_type": "code",
   "execution_count": 20,
   "id": "0895fd82",
   "metadata": {},
   "outputs": [],
   "source": [
    "with tiledb.open(\"dense_array1\",'w') as A:\n",
    "    A[:] = data"
   ]
  },
  {
   "cell_type": "code",
   "execution_count": 21,
   "id": "469ed7a8",
   "metadata": {},
   "outputs": [
    {
     "name": "stdout",
     "output_type": "stream",
     "text": [
      "\u001b[01;34mdense_array1\u001b[00m\r\n",
      "├── \u001b[01;34m__1637341314611_1637341314611_ee145f5445cb4bd287a4cf0277172ddf_10\u001b[00m\r\n",
      "│   ├── __fragment_metadata.tdb\r\n",
      "│   └── a0.tdb\r\n",
      "├── __1637341314611_1637341314611_ee145f5445cb4bd287a4cf0277172ddf_10.ok\r\n",
      "├── __lock.tdb\r\n",
      "├── \u001b[01;34m__meta\u001b[00m\r\n",
      "└── \u001b[01;34m__schema\u001b[00m\r\n",
      "    └── __1637267278772_1637267278772_6c150466aff54b51943f6b87bd2aa447\r\n",
      "\r\n",
      "3 directories, 5 files\r\n"
     ]
    }
   ],
   "source": [
    "!tree dense_array1"
   ]
  },
  {
   "cell_type": "code",
   "execution_count": 22,
   "id": "f1586b2a",
   "metadata": {},
   "outputs": [
    {
     "name": "stdout",
     "output_type": "stream",
     "text": [
      "[[ 1  2  3  4]\n",
      " [ 1  2  3  4]\n",
      " [ 1  2  3  4]\n",
      " [ 1  2  3 16]]\n"
     ]
    }
   ],
   "source": [
    "with tiledb.open(\"dense_array1\",'r') as A:\n",
    "    print(A[:][\"a\"])"
   ]
  },
  {
   "cell_type": "code",
   "execution_count": 24,
   "id": "d9eef795",
   "metadata": {},
   "outputs": [
    {
     "name": "stdout",
     "output_type": "stream",
     "text": [
      "[[1 2 3 4]\n",
      " [1 2 3 4]]\n"
     ]
    }
   ],
   "source": [
    "with tiledb.open(\"dense_array1\",'r') as A:\n",
    "    print(A[1:3][\"a\"])"
   ]
  },
  {
   "cell_type": "code",
   "execution_count": null,
   "id": "692c6482",
   "metadata": {},
   "outputs": [],
   "source": [
    "with tiledb.open(\"dense_array1\",'r') as A:\n",
    "    print(A[1:3][\"a\"])"
   ]
  }
 ],
 "metadata": {
  "kernelspec": {
   "display_name": "Python 3 (ipykernel)",
   "language": "python",
   "name": "python3"
  },
  "language_info": {
   "codemirror_mode": {
    "name": "ipython",
    "version": 3
   },
   "file_extension": ".py",
   "mimetype": "text/x-python",
   "name": "python",
   "nbconvert_exporter": "python",
   "pygments_lexer": "ipython3",
   "version": "3.8.12"
  }
 },
 "nbformat": 4,
 "nbformat_minor": 5
}
